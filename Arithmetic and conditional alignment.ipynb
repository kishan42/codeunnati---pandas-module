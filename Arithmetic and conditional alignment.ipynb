{
 "cells": [
  {
   "cell_type": "code",
   "execution_count": 1,
   "id": "d3a4ea30",
   "metadata": {},
   "outputs": [
    {
     "name": "stdout",
     "output_type": "stream",
     "text": [
      "       weight    name  Age\n",
      "Row_1      45     sam   14\n",
      "Row_2      88  andera   25\n",
      "Row_3      56    Alex   55\n",
      "Row_4      15   robin    8\n",
      "Row_5      71     Kia   21\n"
     ]
    }
   ],
   "source": [
    "import pandas as pd\n",
    "\n",
    "df = pd.DataFrame({'weight':[45,88,56,15,71],\n",
    "                   'name':['sam','andera','Alex','robin','Kia'],\n",
    "                   'Age':[14,25,55,8,21]})\n",
    "\n",
    "index_ = ['Row_1','Row_2','Row_3','Row_4','Row_5']\n",
    "\n",
    "df.index = index_\n",
    "\n",
    "print(df)"
   ]
  },
  {
   "cell_type": "code",
   "execution_count": 2,
   "id": "4f69b9c7",
   "metadata": {},
   "outputs": [
    {
     "name": "stdout",
     "output_type": "stream",
     "text": [
      "andera\n",
      "name    sam\n",
      "Age      14\n",
      "Name: Row_1, dtype: object\n"
     ]
    }
   ],
   "source": [
    "result =  df.loc['Row_2','name']\n",
    "print(result)\n",
    "\n",
    "result2 = df.loc['Row_1',['name','Age']]\n",
    "print(result2)\n"
   ]
  },
  {
   "cell_type": "code",
   "execution_count": 3,
   "id": "f41f5ef7",
   "metadata": {},
   "outputs": [
    {
     "name": "stdout",
     "output_type": "stream",
     "text": [
      "        A  B   C   D\n",
      "Row_1  45  7  14  12\n",
      "Row_2  88  2  25   3\n",
      "Row_3  56  3  55  54\n",
      "Row_4  15  4   8  67\n",
      "Row_5  71  5  21  89\n"
     ]
    }
   ],
   "source": [
    "df = pd.DataFrame({'A':[45,88,56,15,71],\n",
    "                   'B':[7,2,3,4,5],\n",
    "                   'C':[14,25,55,8,21],\n",
    "                    'D':[12,3,54,67,89]})\n",
    "\n",
    "index_ = ['Row_1','Row_2','Row_3','Row_4','Row_5']\n",
    "\n",
    "df.index = index_\n",
    "\n",
    "print(df)"
   ]
  },
  {
   "cell_type": "code",
   "execution_count": 7,
   "id": "2185fabe",
   "metadata": {},
   "outputs": [
    {
     "name": "stdout",
     "output_type": "stream",
     "text": [
      "        A   D\n",
      "Row_1  45  12\n",
      "Row_2  88   3\n",
      "Row_3  56  54\n",
      "Row_4  15  67\n",
      "Row_5  71  89\n"
     ]
    }
   ],
   "source": [
    "result = df.loc[:,['A','D']]\n",
    "\n",
    "print(result)"
   ]
  },
  {
   "cell_type": "code",
   "execution_count": null,
   "id": "2ceced6f",
   "metadata": {},
   "outputs": [],
   "source": []
  },
  {
   "cell_type": "code",
   "execution_count": null,
   "id": "bb4f684c",
   "metadata": {},
   "outputs": [],
   "source": []
  }
 ],
 "metadata": {
  "kernelspec": {
   "display_name": "Python 3 (ipykernel)",
   "language": "python",
   "name": "python3"
  },
  "language_info": {
   "codemirror_mode": {
    "name": "ipython",
    "version": 3
   },
   "file_extension": ".py",
   "mimetype": "text/x-python",
   "name": "python",
   "nbconvert_exporter": "python",
   "pygments_lexer": "ipython3",
   "version": "3.9.12"
  }
 },
 "nbformat": 4,
 "nbformat_minor": 5
}
