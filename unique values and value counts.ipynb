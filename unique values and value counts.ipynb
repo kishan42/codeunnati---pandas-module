{
 "cells": [
  {
   "cell_type": "code",
   "execution_count": 1,
   "id": "cff59f6e",
   "metadata": {},
   "outputs": [
    {
     "name": "stdout",
     "output_type": "stream",
     "text": [
      "             Model Name  Gear  Cylinder\n",
      "0               Valiant     3         6\n",
      "1            Duster 360     3         8\n",
      "2             Merc 240D     4         4\n",
      "3              Merc 230     4         4\n",
      "4              Merc 280     5         6\n",
      "5             Merc 280c     4         6\n",
      "6            Merc 450SE     3         8\n",
      "7            Merc 450SL     3         8\n",
      "8           Merc 450SLC     3         8\n",
      "9    Cadillac Fleetwood     3         8\n",
      "10  Lincoln Continental     3         8\n",
      "11     Chryler Imperial     3         8\n",
      "12             Fiat 128     4         4\n",
      "13          Honda Civic     4         4\n",
      "14       Toyota Corolla     4         4\n"
     ]
    }
   ],
   "source": [
    "import pandas as pd\n",
    "\n",
    "car_data = {'Model Name':['Valiant',\n",
    "                          'Duster 360',\n",
    "                          'Merc 240D',\n",
    "                          'Merc 230',\n",
    "                          'Merc 280',\n",
    "                          'Merc 280c',\n",
    "                          'Merc 450SE',\n",
    "                          'Merc 450SL',\n",
    "                          'Merc 450SLC',\n",
    "                          'Cadillac Fleetwood',\n",
    "                          'Lincoln Continental',\n",
    "                          'Chryler Imperial',\n",
    "                          'Fiat 128',\n",
    "                          'Honda Civic',\n",
    "                          'Toyota Corolla'],\n",
    "            'Gear':[3,3,4,4,5,4,3,3,3,3,3,3,4,4,4],\n",
    "            'Cylinder':[6,8,4,4,6,6,8,8,8,8,8,8,4,4,4]}\n",
    "\n",
    "car_df = pd.DataFrame(car_data)\n",
    "print(car_df)"
   ]
  },
  {
   "cell_type": "code",
   "execution_count": 6,
   "id": "cb92c31e",
   "metadata": {},
   "outputs": [
    {
     "name": "stdout",
     "output_type": "stream",
     "text": [
      "Unique values present in Gear column are: [3 4 5]\n",
      "Unique values present in Cylinder column are: [6 8 4]\n"
     ]
    }
   ],
   "source": [
    "car_data = {'Model Name':['Valiant',\n",
    "                          'Duster 360',\n",
    "                          'Merc 240D',\n",
    "                          'Merc 230',\n",
    "                          'Merc 280',\n",
    "                          'Merc 280c',\n",
    "                          'Merc 450SE',\n",
    "                          'Merc 450SL',\n",
    "                          'Merc 450SLC',\n",
    "                          'Cadillac Fleetwood',\n",
    "                          'Lincoln Continental',\n",
    "                          'Chryler Imperial',\n",
    "                          'Fiat 128',\n",
    "                          'Honda Civic',\n",
    "                          'Toyota Corolla'],\n",
    "            'Gear':[3,3,4,4,5,4,3,3,3,3,3,3,4,4,4],\n",
    "            'Cylinder':[6,8,4,4,6,6,8,8,8,8,8,8,4,4,4]}\n",
    "\n",
    "car_df = pd.DataFrame(car_data)\n",
    "\n",
    "print(f\"Unique values present in Gear column are: {car_df['Gear'].unique()}\")    \n",
    "\n",
    "print(f\"Unique values present in Cylinder column are: {car_df['Cylinder'].unique()}\")"
   ]
  },
  {
   "cell_type": "code",
   "execution_count": 10,
   "id": "383d43b7",
   "metadata": {},
   "outputs": [
    {
     "name": "stdout",
     "output_type": "stream",
     "text": [
      "3    8\n",
      "4    6\n",
      "5    1\n",
      "Name: Gear, dtype: int64 8    7\n",
      "4    5\n",
      "6    3\n",
      "Name: Cylinder, dtype: int64\n"
     ]
    }
   ],
   "source": [
    "car_data = {'Model Name':['Valiant',\n",
    "                          'Duster 360',\n",
    "                          'Merc 240D',\n",
    "                          'Merc 230',\n",
    "                          'Merc 280',\n",
    "                          'Merc 280c',\n",
    "                          'Merc 450SE',\n",
    "                          'Merc 450SL',\n",
    "                          'Merc 450SLC',\n",
    "                          'Cadillac Fleetwood',\n",
    "                          'Lincoln Continental',\n",
    "                          'Chryler Imperial',\n",
    "                          'Fiat 128',\n",
    "                          'Honda Civic',\n",
    "                          'Toyota Corolla'],\n",
    "            'Gear':[3,3,4,4,5,4,3,3,3,3,3,3,4,4,4],\n",
    "            'Cylinder':[6,8,4,4,6,6,8,8,8,8,8,8,4,4,4]}\n",
    "\n",
    "gear_count = pd.value_counts(car_df.Gear)\n",
    "Cylinder_count = pd.value_counts(car_df.Cylinder)\n",
    "\n",
    "print(gear_count,Cylinder_count)"
   ]
  },
  {
   "cell_type": "code",
   "execution_count": 11,
   "id": "c75d0c68",
   "metadata": {},
   "outputs": [
    {
     "name": "stdout",
     "output_type": "stream",
     "text": [
      "3    8\n",
      "4    6\n",
      "5    1\n",
      "Name: Gear, dtype: int64 8    7\n",
      "4    5\n",
      "6    3\n",
      "Name: Cylinder, dtype: int64\n"
     ]
    }
   ],
   "source": [
    "g_count = car_df['Gear'].value_counts()\n",
    "cy_count = car_df['Cylinder'].value_counts()\n",
    "\n",
    "print(g_count,cy_count)"
   ]
  },
  {
   "cell_type": "code",
   "execution_count": 28,
   "id": "23b9dfcb",
   "metadata": {
    "scrolled": true
   },
   "outputs": [
    {
     "name": "stdout",
     "output_type": "stream",
     "text": [
      "name unique value count: ['Valiant' 'Duster 360' 'Merc 240D' 'Merc 230' 'Merc 280' 'Merc 280c'\n",
      " 'Merc 450SE' 'Merc 450SL' 'Merc 450SLC' 'Cadillac Fleetwood'\n",
      " 'Lincoln Continental' 'Chryler Imperial' 'Fiat 128' 'Honda Civic'\n",
      " 'Toyota Corolla'] \n",
      "gear unique value count: [3 4 5] \n",
      "cylinder unique value : [6 8 4]\n",
      "name unique value : 15 \n",
      "gear unique value : 3 \n",
      "cylinder unique value : 3\n"
     ]
    }
   ],
   "source": [
    "car_data = {'Model Name':['Valiant',\n",
    "                          'Duster 360',\n",
    "                          'Merc 240D',\n",
    "                          'Merc 230',\n",
    "                          'Merc 280',\n",
    "                          'Merc 280c',\n",
    "                          'Merc 450SE',\n",
    "                          'Merc 450SL',\n",
    "                          'Merc 450SLC',\n",
    "                          'Cadillac Fleetwood',\n",
    "                          'Lincoln Continental',\n",
    "                          'Chryler Imperial',\n",
    "                          'Fiat 128',\n",
    "                          'Honda Civic',\n",
    "                          'Toyota Corolla'],\n",
    "            'Gear':[3,3,4,4,5,4,3,3,3,3,3,3,4,4,4],\n",
    "            'Cylinder':[6,8,4,4,6,6,8,8,8,8,8,8,4,4,4]}\n",
    "\n",
    "car_df = pd.DataFrame(car_data)\n",
    "\n",
    "name_count = pd.unique(car_df['Model Name'])\n",
    "gear_count = pd.unique(car_df.Gear)\n",
    "cyl_count = pd.unique(car_df.Cylinder)\n",
    "\n",
    "print(\"name unique value count:\",name_count,\n",
    "      \"\\ngear unique value count:\",gear_count,\n",
    "      \"\\ncylinder unique value :\",cyl_count)\n",
    "\n",
    "name_unique,gear_unique,cyl_unique = 0,0,0\n",
    "\n",
    "for item in name_count:\n",
    "    name_unique += 1\n",
    "\n",
    "for item in gear_count:\n",
    "    gear_unique += 1\n",
    "    \n",
    "for item in cyl_count:\n",
    "    cyl_unique += 1\n",
    "    \n",
    "print(\"name unique value :\",name_unique,\n",
    "      \"\\ngear unique value :\",gear_unique,\n",
    "      \"\\ncylinder unique value :\",cyl_unique)"
   ]
  },
  {
   "cell_type": "code",
   "execution_count": null,
   "id": "ee1ac3c1",
   "metadata": {},
   "outputs": [],
   "source": []
  }
 ],
 "metadata": {
  "kernelspec": {
   "display_name": "Python 3 (ipykernel)",
   "language": "python",
   "name": "python3"
  },
  "language_info": {
   "codemirror_mode": {
    "name": "ipython",
    "version": 3
   },
   "file_extension": ".py",
   "mimetype": "text/x-python",
   "name": "python",
   "nbconvert_exporter": "python",
   "pygments_lexer": "ipython3",
   "version": "3.9.12"
  }
 },
 "nbformat": 4,
 "nbformat_minor": 5
}
