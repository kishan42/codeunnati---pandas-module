{
 "cells": [
  {
   "cell_type": "code",
   "execution_count": 21,
   "id": "686e7482",
   "metadata": {
    "scrolled": true
   },
   "outputs": [
    {
     "name": "stdout",
     "output_type": "stream",
     "text": [
      "Name\n",
      "Avery Bradley    25\n",
      "Jae Crowder      25\n",
      "John Holland     27\n",
      "R.J. Hunter      22\n",
      "Jonas Jerebko    29\n",
      "                 ..\n",
      "Trey Lyles       20\n",
      "Shelvin Mack     26\n",
      "Raul Neto        24\n",
      "Tibor Pleiss     26\n",
      "Jeff Withey      26\n",
      "Name: Age, Length: 457, dtype: int64\n",
      "Name\n",
      "Avery Bradley                Texas\n",
      "Jae Crowder              Marquette\n",
      "John Holland     Boston University\n",
      "R.J. Hunter          Georgia State\n",
      "Jonas Jerebko                  NaN\n",
      "                       ...        \n",
      "Trey Lyles                Kentucky\n",
      "Shelvin Mack                Butler\n",
      "Raul Neto                      NaN\n",
      "Tibor Pleiss                   NaN\n",
      "Jeff Withey                 Kansas\n",
      "Name: College, Length: 457, dtype: object\n",
      "               Age  Number     Salary\n",
      "Name                                 \n",
      "Avery Bradley   25       0  7730337.0\n",
      "Jae Crowder     25      99  6796117.0\n",
      "John Holland    27      30        NaN\n",
      "R.J. Hunter     22      28  1148640.0\n",
      "Jonas Jerebko   29       8  5000000.0\n",
      "...            ...     ...        ...\n",
      "Trey Lyles      20      41  2239800.0\n",
      "Shelvin Mack    26       8  2433333.0\n",
      "Raul Neto       24      25   900000.0\n",
      "Tibor Pleiss    26      21  2900000.0\n",
      "Jeff Withey     26      24   947276.0\n",
      "\n",
      "[457 rows x 3 columns]\n",
      "['Team', 'Number', 'Position', 'Age', 'Height', 'Weight', 'College', 'Salary']\n"
     ]
    }
   ],
   "source": [
    "#selecting a single columns\n",
    "\n",
    "import pandas as pd\n",
    "\n",
    "data = pd.read_csv(\"nba-2.csv\",index_col=\"Name\")   #retrieving columns by indexing operators\n",
    "\n",
    "first = data[\"Age\"]\n",
    "collage = data['College']\n",
    "alldata = data[['Age','Number','Salary']]\n",
    "\n",
    "#print(data)\n",
    "\n",
    "print(first)\n",
    "print(collage)\n",
    "print(alldata)\n",
    "print(data.columns.tolist())"
   ]
  },
  {
   "cell_type": "code",
   "execution_count": 38,
   "id": "4dde9bff",
   "metadata": {},
   "outputs": [
    {
     "name": "stdout",
     "output_type": "stream",
     "text": [
      "                         Team  Number Position  Age Height  Weight  \\\n",
      "Name                                                                 \n",
      "Avery Bradley  Boston Celtics       0       PG   25  2-Jun     180   \n",
      "John Holland   Boston Celtics      30       SG   27  5-Jun     205   \n",
      "\n",
      "                         College     Salary  \n",
      "Name                                         \n",
      "Avery Bradley              Texas  7730337.0  \n",
      "John Holland   Boston University        NaN  \n",
      "               Age  Number     Salary\n",
      "Name                                 \n",
      "Avery Bradley   25       0  7730337.0\n",
      "John Holland    27      30        NaN\n"
     ]
    }
   ],
   "source": [
    "rows = data.loc[['Avery Bradley','John Holland']]  #retriving perticular multiple row values \n",
    "print(rows)\n",
    "\n",
    "row2 = data.loc[['Avery Bradley','John Holland'],['Age','Number','Salary']]   #retriving the particular row with particular column value\n",
    "print(row2)"
   ]
  },
  {
   "cell_type": "code",
   "execution_count": 39,
   "id": "920cd2f1",
   "metadata": {},
   "outputs": [
    {
     "name": "stdout",
     "output_type": "stream",
     "text": [
      "Team        Boston Celtics\n",
      "Number                  28\n",
      "Position                SG\n",
      "Age                     22\n",
      "Height               5-Jun\n",
      "Weight                 185\n",
      "College      Georgia State\n",
      "Salary           1148640.0\n",
      "Name: R.J. Hunter, dtype: object\n",
      "                        Team  Number Position  Age Height  Weight  \\\n",
      "Name                                                                \n",
      "John Holland  Boston Celtics      30       SG   27  5-Jun     205   \n",
      "R.J. Hunter   Boston Celtics      28       SG   22  5-Jun     185   \n",
      "\n",
      "                        College     Salary  \n",
      "Name                                        \n",
      "John Holland  Boston University        NaN  \n",
      "R.J. Hunter       Georgia State  1148640.0  \n",
      "               Height  Weight Position            Team\n",
      "Name                                                  \n",
      "Jonas Jerebko  10-Jun     231       PF  Boston Celtics\n",
      "               Height  Weight Position            Team     Salary\n",
      "Name                                                             \n",
      "Jonas Jerebko  10-Jun     231       PF  Boston Celtics  5000000.0\n",
      "Jordan Mickey   8-Jun     235       PF  Boston Celtics  1170960.0\n"
     ]
    }
   ],
   "source": [
    "row3 = data.iloc[3]   #retriving the perticular row data using iloc with row index\n",
    "print(row3)\n",
    "\n",
    "rowm = data.iloc[[2,3]]   #retriving the perticular multiple row data using iloc with row index\n",
    "print(rowm) \n",
    "\n",
    "row4 = data.iloc[[4],[4,5,2,0]]  #retriving the perticular row with perticular cloumn data using iloc with row index\n",
    "print(row4)\n",
    "\n",
    "row4 = data.iloc[[4,6],[4,5,2,0,7]]  #retriving the perticular row with perticular cloumn data using iloc with row index\n",
    "print(row4)\n",
    "\n"
   ]
  },
  {
   "cell_type": "code",
   "execution_count": null,
   "id": "b207acd4",
   "metadata": {},
   "outputs": [],
   "source": []
  },
  {
   "cell_type": "code",
   "execution_count": null,
   "id": "cfc39909",
   "metadata": {},
   "outputs": [],
   "source": []
  }
 ],
 "metadata": {
  "kernelspec": {
   "display_name": "Python 3 (ipykernel)",
   "language": "python",
   "name": "python3"
  },
  "language_info": {
   "codemirror_mode": {
    "name": "ipython",
    "version": 3
   },
   "file_extension": ".py",
   "mimetype": "text/x-python",
   "name": "python",
   "nbconvert_exporter": "python",
   "pygments_lexer": "ipython3",
   "version": "3.9.12"
  }
 },
 "nbformat": 4,
 "nbformat_minor": 5
}
